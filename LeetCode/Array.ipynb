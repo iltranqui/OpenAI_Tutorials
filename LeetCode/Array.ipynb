{
 "cells": [
  {
   "attachments": {},
   "cell_type": "markdown",
   "metadata": {},
   "source": [
    "In Python, an array is a collection of items stored at contiguous memory locations. The items in an array can be of any data type, including integers, floating-point numbers, characters, and strings.\n",
    "\n",
    "Arrays are useful for storing data that needs to be accessed and modified frequently, as they allow you to access and modify the items in the array efficiently. But you have to occupy space since from implementation. \n",
    "\n",
    "To create an array in Python, you can use the array module. Here is an example of how you might create an array of integers in Python:"
   ]
  },
  {
   "cell_type": "code",
   "execution_count": null,
   "metadata": {},
   "outputs": [],
   "source": [
    "import array\n",
    "\n",
    "# Create an array of integers\n",
    "int_array = array.array('i', [1, 2, 3, 4, 5])\n",
    "\n",
    "# Print the array\n",
    "print(int_array) # Output: array('i', [1, 2, 3, 4, 5])\n",
    "\n",
    "# Create an array of integers using a list comprehension\n",
    "int_array = [i for i in range(1, 6)]\n",
    "\n",
    "# Print the array\n",
    "print(int_array) # Output: [1, 2, 3, 4, 5]\n"
   ]
  },
  {
   "attachments": {},
   "cell_type": "markdown",
   "metadata": {},
   "source": [
    "To access the items in an array, you can use indexing. In Python, indexing starts at 0, so to access the first item in the array, you would use array[0], the second item would be array[1], and so on."
   ]
  },
  {
   "cell_type": "code",
   "execution_count": null,
   "metadata": {},
   "outputs": [],
   "source": [
    "# Create an array of integers\n",
    "int_array = [1, 2, 3, 4, 5]\n",
    "\n",
    "# Access the first item in the array\n",
    "print(int_array[0]) # Output: 1\n",
    "\n",
    "# Modify the second item in the array\n",
    "int_array[1] = 10\n",
    "\n",
    "# Print the modified array\n",
    "print(int_array) # Output: [1, 10, 3, 4, 5]\n"
   ]
  },
  {
   "attachments": {},
   "cell_type": "markdown",
   "metadata": {},
   "source": [
    "Get the length of an array: You can use the len function to get the number of items in an array. For example:"
   ]
  },
  {
   "cell_type": "code",
   "execution_count": null,
   "metadata": {},
   "outputs": [],
   "source": [
    "# Create an array of integers\n",
    "int_array = [1, 2, 3, 4, 5]\n",
    "\n",
    "# Get the length of the array\n",
    "length = len(int_array)\n",
    "\n",
    "# Print the length of the array\n",
    "print(length) # Output: 5\n"
   ]
  },
  {
   "attachments": {},
   "cell_type": "markdown",
   "metadata": {},
   "source": [
    "Append an item to the end of an array: You can use the append method to add an item to the end of an array. For example:"
   ]
  },
  {
   "cell_type": "code",
   "execution_count": null,
   "metadata": {},
   "outputs": [],
   "source": [
    "# Create an array of integers\n",
    "int_array = [1, 2, 3, 4, 5]\n",
    "\n",
    "# Append a new item to the end of the array\n",
    "int_array.append(6)\n",
    "\n",
    "# Print the modified array\n",
    "print(int_array) # Output: [1, 2, 3, 4, 5, 6]\n"
   ]
  },
  {
   "attachments": {},
   "cell_type": "markdown",
   "metadata": {},
   "source": [
    "Insert an item at a specific index: You can use the insert method to insert an item at a specific index in the array. For example:\n"
   ]
  },
  {
   "cell_type": "code",
   "execution_count": null,
   "metadata": {},
   "outputs": [],
   "source": [
    "# Create an array of integers\n",
    "int_array = [1, 2, 3, 4, 5]\n",
    "\n",
    "# Insert a new item at index 2\n",
    "int_array.insert(2, 10)\n",
    "\n",
    "# Print the modified array\n",
    "print(int_array) # Output: [1, 2, 10, 3, 4, 5]\n"
   ]
  },
  {
   "attachments": {},
   "cell_type": "markdown",
   "metadata": {},
   "source": [
    "Remove an item from an array: You can use the remove method to remove an item from an array. For example:"
   ]
  },
  {
   "cell_type": "code",
   "execution_count": null,
   "metadata": {},
   "outputs": [],
   "source": [
    "# Create an array of integers\n",
    "int_array = [1, 2, 3, 4, 5]\n",
    "\n",
    "# Remove the item at index 2\n",
    "int_array.remove(3)\n",
    "\n",
    "# Print the modified array\n",
    "print(int_array) # Output: [1, 2, 4, 5]\n"
   ]
  },
  {
   "attachments": {},
   "cell_type": "markdown",
   "metadata": {},
   "source": [
    "I)terate through an array: You can use a for loop to iterate through the items in an array. For example:"
   ]
  },
  {
   "cell_type": "code",
   "execution_count": null,
   "metadata": {},
   "outputs": [],
   "source": [
    "# Create an array of integers\n",
    "int_array = [1, 2, 3, 4, 5]\n",
    "\n",
    "# Iterate through the array and print each item\n",
    "for item in int_array:\n",
    "    print(item)\n"
   ]
  },
  {
   "attachments": {},
   "cell_type": "markdown",
   "metadata": {},
   "source": [
    "Sort an array: You can use the sort method to sort the items in an array in ascending order. For example:\n"
   ]
  },
  {
   "cell_type": "code",
   "execution_count": null,
   "metadata": {},
   "outputs": [],
   "source": [
    "# Create an array of integers\n",
    "int_array = [5, 3, 2, 4, 1]\n",
    "\n",
    "# Sort the array in ascending order\n",
    "int_array.sort()\n",
    "\n",
    "# Print the sorted array\n",
    "print(int_array) # Output: [1, 2, 3, 4, 5]\n"
   ]
  },
  {
   "attachments": {},
   "cell_type": "markdown",
   "metadata": {},
   "source": [
    "Note that the sort method modifies the array in place, so you don't need to assign the result to a new variable.\n",
    "\n",
    "You can also use the sorted function to sort an array in ascending order. This function returns a new sorted list, rather than modifying the array in place. For example:"
   ]
  },
  {
   "cell_type": "code",
   "execution_count": null,
   "metadata": {},
   "outputs": [],
   "source": [
    "# Create an array of integers\n",
    "int_array = [5, 3, 2, 4, 1]\n",
    "\n",
    "# Sort the array in ascending order\n",
    "sorted_array = sorted(int_array)\n",
    "\n",
    "# Print the sorted array\n",
    "print(sorted_array) # Output: [1, 2, 3, 4, 5]\n"
   ]
  },
  {
   "attachments": {},
   "cell_type": "markdown",
   "metadata": {},
   "source": [
    "Reverse an array: You can use the reverse method to reverse the order of the items in an array. For example:"
   ]
  },
  {
   "cell_type": "code",
   "execution_count": null,
   "metadata": {},
   "outputs": [],
   "source": [
    "# Create an array of integers\n",
    "int_array = [1, 2, 3, 4, 5]\n",
    "\n",
    "# Reverse the array\n",
    "int_array.reverse()\n",
    "\n",
    "# Print the reversed array\n",
    "print(int_array) # Output: [5, 4, 3, 2, 1]\n"
   ]
  }
 ],
 "metadata": {
  "language_info": {
   "name": "python"
  },
  "orig_nbformat": 4
 },
 "nbformat": 4,
 "nbformat_minor": 2
}
