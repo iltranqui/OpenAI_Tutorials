{
 "cells": [
  {
   "attachments": {},
   "cell_type": "markdown",
   "metadata": {},
   "source": [
    "https://leetcode.com/problems/remove-duplicates-from-sorted-array/\n",
    "\n",
    "Given an integer array nums sorted in non-decreasing order, remove the duplicates in-place such that each unique element appears only once. The relative order of the elements should be kept the same.\n",
    "\n",
    "Since it is impossible to change the length of the array in some languages, you must instead have the result be placed in the first part of the array nums. More formally, if there are k elements after removing the duplicates, then the first k elements of nums should hold the final result. It does not matter what you leave beyond the first k elements.\n",
    "\n",
    "Return k after placing the final result in the first k slots of nums.\n",
    "\n",
    "Do not allocate extra space for another array. You must do this by modifying the input array in-place with O(1) extra memory."
   ]
  },
  {
   "attachments": {},
   "cell_type": "markdown",
   "metadata": {},
   "source": [
    "To solve this problem, you can use two pointers. One pointer (i) will iterate through the array and the other pointer (j) will keep track of the position where the next unique element should be placed.\n",
    "\n",
    "Here is some pseudocode for how you might solve this problem:"
   ]
  },
  {
   "cell_type": "code",
   "execution_count": null,
   "metadata": {},
   "outputs": [],
   "source": [
    "def removeDuplicates(nums):\n",
    "    i = 0\n",
    "    j = 0\n",
    "    while i < len(nums):\n",
    "        nums[j] = nums[i]\n",
    "        i += 1\n",
    "        j += 1\n",
    "        while i < len(nums) and nums[i] == nums[i - 1]:\n",
    "            i += 1\n",
    "    return j\n"
   ]
  },
  {
   "cell_type": "code",
   "execution_count": null,
   "metadata": {},
   "outputs": [],
   "source": [
    "# in Python\n",
    "def removeDuplicates(nums):\n",
    "    i = 0\n",
    "    j = 0\n",
    "    while i < len(nums):\n",
    "        nums[j] = nums[i]\n",
    "        i += 1\n",
    "        j += 1\n",
    "        while i < len(nums) and nums[i] == nums[i - 1]:\n",
    "            i += 1\n",
    "    return j\n",
    "\n",
    "print(removeDuplicates([1,1,2])) # should print 2\n",
    "print(removeDuplicates([1,1,2,3,3,3,4,4,5])) # should print 5\n",
    "print(removeDuplicates([1,1,1,1,1])) # should print 1\n"
   ]
  }
 ],
 "metadata": {
  "language_info": {
   "name": "python"
  },
  "orig_nbformat": 4
 },
 "nbformat": 4,
 "nbformat_minor": 2
}
