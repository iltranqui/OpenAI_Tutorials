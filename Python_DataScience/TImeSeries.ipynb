{
 "cells": [
  {
   "attachments": {},
   "cell_type": "markdown",
   "metadata": {},
   "source": [
    "# Time series analysis\n",
    "\n",
    " Is a statistical technique used to analyze and model time-dependent data.\n",
    "\n",
    " Also, there are different models used for time series analysis such as ARIMA, GARCH, Exponential smoothing models, etc. These models are used to perform different tasks such as forecasting, anomaly detection, and causal inference.\n",
    "\n",
    " Sure, a common mathematical formula for a time series is the following:\n",
    "\n",
    "$y_t = \\alpha + \\beta t + \\varepsilon_t$\n",
    "\n",
    "This formula represents a time series where:\n",
    "\n",
    "$y_t$ is the value of the time series at time t\n",
    "$\\alpha$ is the intercept (or the value of the time series when t = 0)\n",
    "$\\beta$ is the slope (or the rate of change of the time series with respect to time)\n",
    "$\\varepsilon_t$ is the error term at time t, which represents the unpredictable fluctuations in the time series that are not explained by the trend and the slope.\n",
    "This is a simple linear trend model, and there are also more complex models to represent a time series like the exponential smoothing, ARIMA, etc."
   ]
  },
  {
   "attachments": {},
   "cell_type": "markdown",
   "metadata": {},
   "source": [
    "### How can i predict alpba and beta ? \n",
    "\n",
    "There are different methods to estimate the values of $\\alpha$ and $\\beta$ in a time series model like the one I mentioned earlier.\n",
    "\n",
    "One common method is to use the least squares method. This method involves finding the values of $\\alpha$ and $\\beta$ that minimize the sum of the squared differences between the observed values of $y_t$ and the predicted values of $y_t$ based on the model. Mathematically, the least squares method estimates $\\alpha$ and $\\beta$ as:\n",
    "\n",
    "$\\hat{\\alpha} = \\frac{\\sum_{t=1}^{n}(y_t - \\beta \\cdot t)}{n}$\n",
    "\n",
    "$\\hat{\\beta} = \\frac{\\sum_{t=1}^{n}(y_t - \\hat{\\alpha})(t)}{\\sum_{t=1}^{n}(t-\\bar{t})^2}$\n",
    "\n",
    "Where $\\hat{\\alpha}$ and $\\hat{\\beta}$ are the estimated values of $\\alpha$ and $\\beta$, respectively, and $\\bar{t}$ is the mean of the time variable.\n",
    "\n",
    "Another method is to use the maximum likelihood method. This method finds the values of $\\alpha$ and $\\beta$ that maximize the likelihood function, which is a function that measures how well the model fits the data.\n",
    "\n",
    "These are some of the most common methods used to estimate the parameters in time series models, but there are also other methods such as Bayesian Inference, etc.\n",
    "\n",
    "Also, it's important to note that these models are based on assumptions, like linearity and stationarity of the time series, so these assumptions must be met before applying these models, otherwise, the results will not be accurate."
   ]
  },
  {
   "attachments": {},
   "cell_type": "markdown",
   "metadata": {},
   "source": [
    "# What is the Covariance ?? \n",
    "\n",
    "The covariance of a time series is a measure of the relationship between the values of the time series and the values of a second time series.\n",
    "\n",
    "Formally, the covariance between two time series, $x_t$ and $y_t$, is defined as:\n",
    "\n",
    "$cov(x_t,y_t)=\\frac{1}{n-1}\\sum_{t=1}^{n} (x_t - \\bar{x})(y_t - \\bar{y})$\n",
    "\n",
    "Where $\\bar{x}$ and $\\bar{y}$ are the sample means of the two time series, and n is the number of observations.\n",
    "\n",
    "It's important to note that the covariance is sensitive to the scale of the variables, so it can't be used to compare the relationship between different variables, that's why the correlation coefficient which is the standardization of the covariance, is used. The correlation coefficient is defined as:\n",
    "\n",
    "$\\rho_{x,y}=\\frac{cov(x_t,y_t)}{\\sigma_x\\sigma_y}$\n",
    "\n",
    "where $\\sigma_x$ and $\\sigma_y$ are the standard deviation of $x_t$ and $y_t$ respectively.\n",
    "\n",
    "It's also important to note that the correlation coefficient takes values between -1 and 1, and it is a dimensionless measure that can be used to compare the relationship between different variables."
   ]
  },
  {
   "attachments": {},
   "cell_type": "markdown",
   "metadata": {},
   "source": [
    "### How do i measure the performance of a Time Series ? \n",
    "\n",
    "There are several metrics that can be used to evaluate the performance of a time series model. Some common metrics include:\n",
    "\n",
    "Mean Absolute Error (MAE) - measures the average magnitude of the errors in a set of predictions, without considering their direction.\n",
    "Mean Squared Error (MSE) - measures the average of the squared differences between the predicted and actual values.\n",
    "Root Mean Squared Error (RMSE) - the square root of the MSE, which is used to make the units of the error the same as the units of the original time series.\n",
    "Mean Absolute Percentage Error (MAPE) - measures the average percentage error of the predictions.\n",
    "Correlation Coefficient - measures the strength and direction of a linear relationship between two variables.\n",
    "Theil’s U-Statistic - a measure of the accuracy of a forecast, where 0 is a perfect forecast and 1 is a forecast that is no better than random.\n",
    "In addition to these metrics, it's also important to evaluate the performance of a time series model by visualizing the predictions versus the actual values. This can be done by plotting the predictions and the actual values on the same graph and comparing them.\n",
    "\n",
    "It's important to note that different metrics may be more suitable for different types of time series data and forecasting problem. Additionally, it's good to use multiple evaluation metrics to get a comprehensive view of how the model is performing."
   ]
  },
  {
   "attachments": {},
   "cell_type": "markdown",
   "metadata": {},
   "source": [
    "# write a list of all the models of Time series \n",
    "\n",
    "* Autoregression (AR) - models the current value of a time series based on a linear combination of its past values.\n",
    "* Moving Average (MA) - models the current value of a time series based on the past errors or residuals.\n",
    "* Autoregressive Moving Average (ARMA) - combines the properties of AR and MA models to model the current value of a time series based on a linear combination of its past values and past errors.\n",
    "* Autoregressive Integrated Moving Average (ARIMA) - a variation of the ARMA model that includes differencing to make the time series stationary.\n",
    "* Seasonal Decomposition of Time series (STL) - decompose a time series into its seasonal, trend, and residual components.\n",
    "* Exponential Smoothing (ETS) - a technique that uses a weighted average of past observations to forecast future values.\n",
    "* GARCH models - to model the volatility of time series\n",
    "* Hidden Markov Models (HMM) - a statistical model that describes a system whose state is unobserved but can be inferred from its output\n",
    "* State Space models (SSM) - a class of statistical models that are used for modeling time series data\n",
    "* Neural Network based models - such as LSTM, GRU, and others to model the time series data."
   ]
  },
  {
   "cell_type": "markdown",
   "metadata": {},
   "source": []
  }
 ],
 "metadata": {
  "kernelspec": {
   "display_name": "base",
   "language": "python",
   "name": "python3"
  },
  "language_info": {
   "name": "python",
   "version": "3.9.13 (main, Aug 25 2022, 23:51:50) [MSC v.1916 64 bit (AMD64)]"
  },
  "orig_nbformat": 4,
  "vscode": {
   "interpreter": {
    "hash": "6efacc00bcce593500b9538249af7153ff1bd5a980aeb167913446d147143c22"
   }
  }
 },
 "nbformat": 4,
 "nbformat_minor": 2
}
