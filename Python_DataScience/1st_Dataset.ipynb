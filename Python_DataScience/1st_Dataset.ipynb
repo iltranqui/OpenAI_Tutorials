{
 "cells": [
  {
   "attachments": {},
   "cell_type": "markdown",
   "metadata": {},
   "source": [
    "This will generate a dataset with n rows and m columns, where each element is a random float between 0 and 1. You can adjust the range of the random values by changing the arguments to the random.uniform() function. For example, to generate values between 0 and 100, you can use random.uniform(0, 100)"
   ]
  },
  {
   "cell_type": "code",
   "execution_count": null,
   "metadata": {},
   "outputs": [],
   "source": [
    "import random\n",
    "\n",
    "# Set the number of rows and columns\n",
    "n = 10\n",
    "m = 5\n",
    "\n",
    "# Create an empty list to store the data\n",
    "data = []\n",
    "\n",
    "# Generate the data\n",
    "for i in range(n):\n",
    "  row = []\n",
    "  for j in range(m):\n",
    "    # Generate a random float between 0 and 1\n",
    "    value = random.uniform(0, 1)\n",
    "    # Generate a random integer between 0 and 100\n",
    "    value = random.randint(0, 100)\n",
    "    row.append(value)\n",
    "  data.append(row)\n",
    "\n",
    "# Print the data\n",
    "for row in data:\n",
    "  print(row)"
   ]
  },
  {
   "attachments": {},
   "cell_type": "markdown",
   "metadata": {},
   "source": [
    "The random module from the Python Standard Library provides several functions for generating random data. Here are some examples:\n",
    "\n",
    "* random.uniform(a, b) generates a random float between a and b, where a and b are the lower and upper bounds of the range.\n",
    "\n",
    "* random.randint(a, b) generates a random integer between a and b, where a and b are the lower and upper bounds of the range.\n",
    "\n",
    "* random.gauss(mu, sigma) generates a random float with a normal distribution, where mu is the mean and sigma is the standard deviation.\n",
    "\n",
    "* random.choice(sequence) generates a random element from the given sequence, which can be a list, tuple, or other iterable.\n",
    "\n",
    "* random.sample(population, k) generates a random sample of k elements from the given population, which can be a list, tuple, or other iterable.\n",
    "\n",
    "\\n This will generate a dataset with n rows and m columns, where the first column contains quantitative values, the second column contains categorical values, the third column contains quantitative values, and the fourth column contains categorical values."
   ]
  },
  {
   "cell_type": "code",
   "execution_count": null,
   "metadata": {},
   "outputs": [],
   "source": [
    "import random\n",
    "\n",
    "# Set the number of rows and columns\n",
    "n = 10\n",
    "m = 5\n",
    "\n",
    "# Create an empty list to store the data\n",
    "data = []\n",
    "\n",
    "# Generate the data\n",
    "for i in range(n):\n",
    "  row = []\n",
    "  # Generate a column of quantitative values\n",
    "  value1 = random.uniform(0, 1)\n",
    "  row.append(value1)\n",
    "  # Generate a column of categorical values\n",
    "  value2 = random.choice(['red', 'green', 'blue'])\n",
    "  row.append(value2)\n",
    "  # Generate a column of quantitative values\n",
    "  value3 = random.gauss(0, 1)\n",
    "  row.append(value3)\n",
    "  # Generate a column of categorical values\n",
    "  value4 = random.sample(['a', 'b', 'c', 'd', 'e'], k=2)\n",
    "  row.append(value4)\n",
    "  data.append(row)\n",
    "\n",
    "# Print the data\n",
    "for row in data:\n",
    "  print(row)\n",
    "\n",
    "#  The random.sample() function will return a random sample of 2 elements from the population ['a', 'b', 'c', 'd', 'e'].\n"
   ]
  },
  {
   "attachments": {},
   "cell_type": "markdown",
   "metadata": {},
   "source": [
    "To generate categorical values, you can use the random.choice() and random.sample() functions from the random module from the Python Standard Library.\n",
    "\n",
    "* random.choice(sequence) generates a random element from the given sequence, which can be a list, tuple, or other iterable.\n",
    "\n",
    "* random.sample(population, k) generates a random sample of k elements from the given population, which can be a list, tuple, or other iterable.\n",
    "\n",
    "* random.choices(sequence, weights=None, cum_weights=None, k=1) generates a random sample from the given sequence, with optional weights for each element. This function is similar to random.choice(), but allows you to specify weights for each element in the sequence, which determines the probability of the element being selected.\n",
    "\n",
    "* numpy.random.choice(a, size=None, replace=True, p=None) generates a random sample from the given array-like object, with optional probabilities for each element. This function is similar to random.choices(), but is implemented in the numpy library, which provides additional features and performance improvements for working with large datasets.\n",
    "\n",
    "* pandas.Series.sample(n=None, frac=None, replace=False, weights=None, random_state=None, axis=None) generates a random sample from the given pandas series, with optional probabilities for each element. This function is part of the pandas library, which provides tools for working with data in a tabular format.\n",
    "Here is an example of how you could use these functions to generate categorical values:"
   ]
  },
  {
   "cell_type": "code",
   "execution_count": null,
   "metadata": {},
   "outputs": [],
   "source": [
    "import random\n",
    "import numpy as np\n",
    "import pandas as pd\n",
    "\n",
    "# Generate a categorical value\n",
    "value1 = random.choice(['red', 'green', 'blue'])\n",
    "print(value4)\n",
    "\n",
    "# Generate a categorical value\n",
    "value2 = random.sample(['a', 'b', 'c', 'd', 'e'], k=2)\n",
    "print(value5)\n",
    "\n",
    "# Generate a categorical sample with weights\n",
    "value1 = random.choices(['red', 'green', 'blue'], weights=[0.5, 0.3, 0.2])\n",
    "print(value1)\n",
    "\n",
    "# Generate a categorical sample with different probabilities to appear\n",
    "a = ['a', 'b', 'c', 'd', 'e']\n",
    "p = [0.1, 0.2, 0.3, 0.4, 0.5]\n",
    "value2 = np.random.choice(a, p=p)\n",
    "print(value2)\n",
    "\n",
    "# Generate a categorical sample from a pandas series \n",
    "s = pd.Series(['red', 'green', 'blue'], index=['a', 'b', 'c'])\n",
    "value3 = s.sample()\n",
    "print(value3)\n"
   ]
  }
 ],
 "metadata": {
  "kernelspec": {
   "display_name": "Julia 1.6.7",
   "language": "julia",
   "name": "julia-1.6"
  },
  "language_info": {
   "file_extension": ".jl",
   "mimetype": "application/julia",
   "name": "julia",
   "version": "1.6.7"
  },
  "orig_nbformat": 4
 },
 "nbformat": 4,
 "nbformat_minor": 2
}
